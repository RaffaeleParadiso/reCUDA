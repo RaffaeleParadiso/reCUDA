{
 "cells": [
  {
   "cell_type": "markdown",
   "metadata": {},
   "source": [
    "Matrix multiplication"
   ]
  },
  {
   "cell_type": "code",
   "execution_count": null,
   "metadata": {},
   "outputs": [],
   "source": [
    "# clean the memory\n",
    "%reset\n",
    "!pip install pycuda"
   ]
  },
  {
   "cell_type": "code",
   "execution_count": null,
   "metadata": {},
   "outputs": [],
   "source": [
    "import numpy as np\n",
    "from pycuda import gpuarray, autoinit\n",
    "import pycuda.driver as cuda\n",
    "from pycuda.tools import DeviceData\n",
    "from pycuda.tools import OccupancyRecord as occupancy"
   ]
  },
  {
   "cell_type": "code",
   "execution_count": null,
   "metadata": {},
   "outputs": [],
   "source": [
    "%matplotlib inline\n",
    "from matplotlib import pyplot as plt"
   ]
  },
  {
   "cell_type": "code",
   "execution_count": null,
   "metadata": {},
   "outputs": [],
   "source": [
    "cuBlock = (32,32,1)\n",
    "cuGrid = (16,16,1)"
   ]
  },
  {
   "cell_type": "code",
   "execution_count": null,
   "metadata": {},
   "outputs": [],
   "source": [
    "cudaKernel2 = '''\n",
    "__global__ void matrixMul(float *A, float *B, float *C)\n",
    "{\n",
    "    int tid_x = blockDim.x * blockIdx.x + threadIdx.x; // Row\n",
    "    int tid_y = blockDim.y * blockIdx.y + threadIdx.y; // Column\n",
    "    int matrixDim = gridDim.x * blockDim.x;\n",
    "    int tid   = matrixDim * tid_y + tid_x; // element i,j\n",
    "\n",
    "    float  aux=0.0f;\n",
    "\n",
    "    for ( int i=0 ; i<matrixDim ; i++ ){\n",
    "        //\n",
    "        aux += A[matrixDim * tid_y + i]*B[matrixDim * i + tid_x] ;\n",
    "\n",
    "    }\n",
    "\n",
    "    C[tid] = aux;\n",
    "\n",
    "}\n",
    "'''"
   ]
  },
  {
   "cell_type": "code",
   "execution_count": null,
   "metadata": {},
   "outputs": [],
   "source": [
    "from pycuda.compiler import SourceModule\n",
    "myCode = SourceModule(cudaKernel2)\n",
    "mulMatrix = myCode.get_function(\"matrixMul\")"
   ]
  },
  {
   "cell_type": "code",
   "execution_count": null,
   "metadata": {},
   "outputs": [],
   "source": [
    "presCPU, presGPU = np.float32, 'float'\n",
    "#presCPU, presGPU = np.float64, 'double'\n",
    "a_cpu = np.random.random((512,512)).astype(presCPU)\n",
    "b_cpu = np.random.random((512,512)).astype(presCPU)\n",
    "c_cpu = np.zeros((512,512), dtype=presCPU)"
   ]
  },
  {
   "cell_type": "code",
   "execution_count": null,
   "metadata": {},
   "outputs": [],
   "source": [
    "# Array on GPU\n",
    "a_gpu = gpuarray.to_gpu(a_cpu)\n",
    "b_gpu = gpuarray.to_gpu(b_cpu)\n",
    "c_gpu = gpuarray.to_gpu(c_cpu)"
   ]
  },
  {
   "cell_type": "code",
   "execution_count": null,
   "metadata": {},
   "outputs": [],
   "source": [
    "mulMatrix(a_gpu,b_gpu,c_gpu,block=cuBlock,grid=cuGrid)\n",
    "dotAB = np.dot(a_cpu, b_cpu)"
   ]
  },
  {
   "cell_type": "code",
   "execution_count": null,
   "metadata": {},
   "outputs": [],
   "source": [
    "diff = np.abs(c_gpu.get()-dotAB)\n",
    "np.sum(diff)"
   ]
  },
  {
   "cell_type": "code",
   "execution_count": null,
   "metadata": {},
   "outputs": [],
   "source": [
    "plt.imshow(diff,interpolation='none')\n",
    "plt.colorbar()"
   ]
  },
  {
   "cell_type": "code",
   "execution_count": null,
   "metadata": {},
   "outputs": [],
   "source": [
    "dotAB"
   ]
  },
  {
   "cell_type": "code",
   "execution_count": null,
   "metadata": {},
   "outputs": [],
   "source": [
    "c_gpu"
   ]
  },
  {
   "cell_type": "code",
   "execution_count": null,
   "metadata": {},
   "outputs": [],
   "source": [
    "presCPU, presGPU = np.float64, 'double'\n",
    "a_cpu = np.random.random((512,512)).astype(presCPU)\n",
    "b_cpu = np.random.random((512,512)).astype(presCPU)\n",
    "c_cpu = np.zeros((512,512), dtype=presCPU)"
   ]
  },
  {
   "cell_type": "code",
   "execution_count": null,
   "metadata": {},
   "outputs": [],
   "source": [
    "a_gpu = gpuarray.to_gpu(a_cpu)\n",
    "b_gpu = gpuarray.to_gpu(b_cpu)\n",
    "c_gpu = gpuarray.to_gpu(c_cpu)"
   ]
  },
  {
   "cell_type": "code",
   "execution_count": null,
   "metadata": {},
   "outputs": [],
   "source": [
    "a_cpu.dtype"
   ]
  },
  {
   "cell_type": "code",
   "execution_count": null,
   "metadata": {},
   "outputs": [],
   "source": [
    "cudaKernel3 = '''\n",
    "__global__ void matrixMul64(double *A, double *B, double *C)\n",
    "{\n",
    "    int tid_x = blockDim.x * blockIdx.x + threadIdx.x; // Row\n",
    "    int tid_y = blockDim.y * blockIdx.y + threadIdx.y; // Column\n",
    "    int matrixDim = gridDim.x * blockDim.x;\n",
    "    int tid   = matrixDim * tid_y + tid_x; // element i,j\n",
    "\n",
    "    double aux = 0.0;\n",
    "    for ( int i=0 ; i<matrixDim ; i++ ){\n",
    "        //\n",
    "        aux += A[matrixDim * tid_y + i]*B[matrixDim * i + tid_x] ;\n",
    "\n",
    "    }\n",
    "\n",
    "    C[tid] = aux;\n",
    "\n",
    "}\n",
    "'''"
   ]
  },
  {
   "cell_type": "code",
   "execution_count": null,
   "metadata": {},
   "outputs": [],
   "source": [
    "myCode64 = SourceModule(cudaKernel3)\n",
    "mulMatrix64 = myCode64.get_function(\"matrixMul64\")"
   ]
  },
  {
   "cell_type": "code",
   "execution_count": null,
   "metadata": {},
   "outputs": [],
   "source": [
    "mulMatrix64(a_gpu,b_gpu,c_gpu,block=cuBlock,grid=cuGrid)\n",
    "dotAB = np.dot(a_cpu, b_cpu)"
   ]
  },
  {
   "cell_type": "code",
   "execution_count": null,
   "metadata": {},
   "outputs": [],
   "source": [
    "c_gpu.dtype"
   ]
  },
  {
   "cell_type": "code",
   "execution_count": null,
   "metadata": {},
   "outputs": [],
   "source": [
    "dotAB.dtype"
   ]
  },
  {
   "cell_type": "code",
   "execution_count": null,
   "metadata": {},
   "outputs": [],
   "source": [
    "diff = np.abs(c_gpu.get()-dotAB)"
   ]
  },
  {
   "cell_type": "code",
   "execution_count": null,
   "metadata": {},
   "outputs": [],
   "source": [
    "plt.imshow(diff,interpolation='none')\n",
    "plt.colorbar()"
   ]
  }
 ],
 "metadata": {
  "language_info": {
   "name": "python"
  },
  "orig_nbformat": 4
 },
 "nbformat": 4,
 "nbformat_minor": 2
}
